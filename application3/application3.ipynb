{
 "cells": [
  {
   "cell_type": "markdown",
   "metadata": {},
   "source": [
    "### 0.Crawl suspended stock list from NASDAQ"
   ]
  },
  {
   "cell_type": "code",
   "execution_count": 2,
   "metadata": {},
   "outputs": [],
   "source": [
    "import re\n",
    "from bs4 import BeautifulSoup\n",
    "import urllib\n",
    "import pandas as pd\n",
    "import requests\n",
    "import json\n",
    "import string\n",
    "import nltk\n",
    "from nltk.tokenize import sent_tokenize, word_tokenize\n",
    "from nltk.corpus import stopwords\n",
    "from sklearn.feature_extraction.text import TfidfVectorizer\n",
    "from sklearn.feature_extraction.text import CountVectorizer\n",
    "from sklearn.linear_model import LogisticRegression\n",
    "from sklearn.externals import joblib"
   ]
  },
  {
   "cell_type": "code",
   "execution_count": 3,
   "metadata": {},
   "outputs": [],
   "source": [
    "url = 'https://listingcenter.nasdaq.com/IssuersPendingSuspensionDelisting.aspx'\n",
    "response = urllib.request.urlopen(url)\n",
    "soup = BeautifulSoup(response, 'html.parser')"
   ]
  },
  {
   "cell_type": "code",
   "execution_count": 4,
   "metadata": {},
   "outputs": [],
   "source": [
    "table = soup.find('table',{'class':'rgMasterTable'})"
   ]
  },
  {
   "cell_type": "code",
   "execution_count": 5,
   "metadata": {},
   "outputs": [],
   "source": [
    "stock_list = []\n",
    "for tr in table.tbody.findAll('tr'):\n",
    "    row = []\n",
    "    for td in tr.findAll('td'):\n",
    "        text = td.getText()\n",
    "        if text == '\\xa0':\n",
    "            text = 'None'\n",
    "        row.append(text)\n",
    "    stock_list.append(row)"
   ]
  },
  {
   "cell_type": "code",
   "execution_count": 6,
   "metadata": {},
   "outputs": [],
   "source": [
    "df = pd.DataFrame(stock_list)\n",
    "df.columns = ['Issuer Name','Symbol','Reason','Status','Effective Date','Form 25 Date']"
   ]
  },
  {
   "cell_type": "code",
   "execution_count": 7,
   "metadata": {},
   "outputs": [
    {
     "data": {
      "text/html": [
       "<div>\n",
       "<style scoped>\n",
       "    .dataframe tbody tr th:only-of-type {\n",
       "        vertical-align: middle;\n",
       "    }\n",
       "\n",
       "    .dataframe tbody tr th {\n",
       "        vertical-align: top;\n",
       "    }\n",
       "\n",
       "    .dataframe thead th {\n",
       "        text-align: right;\n",
       "    }\n",
       "</style>\n",
       "<table border=\"1\" class=\"dataframe\">\n",
       "  <thead>\n",
       "    <tr style=\"text-align: right;\">\n",
       "      <th></th>\n",
       "      <th>Issuer Name</th>\n",
       "      <th>Symbol</th>\n",
       "      <th>Reason</th>\n",
       "      <th>Status</th>\n",
       "      <th>Effective Date</th>\n",
       "      <th>Form 25 Date</th>\n",
       "    </tr>\n",
       "  </thead>\n",
       "  <tbody>\n",
       "    <tr>\n",
       "      <th>0</th>\n",
       "      <td>BSB Bancorp, Inc.</td>\n",
       "      <td>BLMT</td>\n",
       "      <td>Acquisition/Merger</td>\n",
       "      <td>Suspended</td>\n",
       "      <td>4/1/2019</td>\n",
       "      <td>3/29/2019</td>\n",
       "    </tr>\n",
       "    <tr>\n",
       "      <th>1</th>\n",
       "      <td>Blue Hills Bancorp, Inc.</td>\n",
       "      <td>BHBK</td>\n",
       "      <td>Acquisition/Merger</td>\n",
       "      <td>Suspended</td>\n",
       "      <td>4/1/2019</td>\n",
       "      <td>3/29/2019</td>\n",
       "    </tr>\n",
       "    <tr>\n",
       "      <th>2</th>\n",
       "      <td>Elbit Imaging Ltd.</td>\n",
       "      <td>EMITF</td>\n",
       "      <td>Regulatory/Non Compliance</td>\n",
       "      <td>Suspended</td>\n",
       "      <td>2/11/2019</td>\n",
       "      <td>None</td>\n",
       "    </tr>\n",
       "    <tr>\n",
       "      <th>3</th>\n",
       "      <td>Federal Life Group, Inc.</td>\n",
       "      <td>FLF</td>\n",
       "      <td>None</td>\n",
       "      <td>Trading</td>\n",
       "      <td>None</td>\n",
       "      <td>None</td>\n",
       "    </tr>\n",
       "    <tr>\n",
       "      <th>4</th>\n",
       "      <td>Gabelli NextShares Trust</td>\n",
       "      <td>FOANC</td>\n",
       "      <td>Liquidation</td>\n",
       "      <td>Suspended</td>\n",
       "      <td>3/27/2019</td>\n",
       "      <td>3/27/2019</td>\n",
       "    </tr>\n",
       "  </tbody>\n",
       "</table>\n",
       "</div>"
      ],
      "text/plain": [
       "                Issuer Name Symbol                     Reason     Status  \\\n",
       "0         BSB Bancorp, Inc.   BLMT         Acquisition/Merger  Suspended   \n",
       "1  Blue Hills Bancorp, Inc.   BHBK         Acquisition/Merger  Suspended   \n",
       "2        Elbit Imaging Ltd.  EMITF  Regulatory/Non Compliance  Suspended   \n",
       "3  Federal Life Group, Inc.    FLF                       None    Trading   \n",
       "4  Gabelli NextShares Trust  FOANC                Liquidation  Suspended   \n",
       "\n",
       "  Effective Date Form 25 Date  \n",
       "0       4/1/2019    3/29/2019  \n",
       "1       4/1/2019    3/29/2019  \n",
       "2      2/11/2019         None  \n",
       "3           None         None  \n",
       "4      3/27/2019    3/27/2019  "
      ]
     },
     "execution_count": 7,
     "metadata": {},
     "output_type": "execute_result"
    }
   ],
   "source": [
    "df.head(5)"
   ]
  },
  {
   "cell_type": "markdown",
   "metadata": {},
   "source": [
    "#### Filter results with the status, as some may resume trading."
   ]
  },
  {
   "cell_type": "code",
   "execution_count": 8,
   "metadata": {
    "scrolled": false
   },
   "outputs": [
    {
     "data": {
      "text/html": [
       "<div>\n",
       "<style scoped>\n",
       "    .dataframe tbody tr th:only-of-type {\n",
       "        vertical-align: middle;\n",
       "    }\n",
       "\n",
       "    .dataframe tbody tr th {\n",
       "        vertical-align: top;\n",
       "    }\n",
       "\n",
       "    .dataframe thead th {\n",
       "        text-align: right;\n",
       "    }\n",
       "</style>\n",
       "<table border=\"1\" class=\"dataframe\">\n",
       "  <thead>\n",
       "    <tr style=\"text-align: right;\">\n",
       "      <th></th>\n",
       "      <th>Issuer Name</th>\n",
       "      <th>Symbol</th>\n",
       "      <th>Reason</th>\n",
       "      <th>Status</th>\n",
       "      <th>Effective Date</th>\n",
       "      <th>Form 25 Date</th>\n",
       "    </tr>\n",
       "  </thead>\n",
       "  <tbody>\n",
       "    <tr>\n",
       "      <th>0</th>\n",
       "      <td>BSB Bancorp, Inc.</td>\n",
       "      <td>BLMT</td>\n",
       "      <td>Acquisition/Merger</td>\n",
       "      <td>Suspended</td>\n",
       "      <td>4/1/2019</td>\n",
       "      <td>3/29/2019</td>\n",
       "    </tr>\n",
       "    <tr>\n",
       "      <th>1</th>\n",
       "      <td>Blue Hills Bancorp, Inc.</td>\n",
       "      <td>BHBK</td>\n",
       "      <td>Acquisition/Merger</td>\n",
       "      <td>Suspended</td>\n",
       "      <td>4/1/2019</td>\n",
       "      <td>3/29/2019</td>\n",
       "    </tr>\n",
       "    <tr>\n",
       "      <th>2</th>\n",
       "      <td>Elbit Imaging Ltd.</td>\n",
       "      <td>EMITF</td>\n",
       "      <td>Regulatory/Non Compliance</td>\n",
       "      <td>Suspended</td>\n",
       "      <td>2/11/2019</td>\n",
       "      <td>None</td>\n",
       "    </tr>\n",
       "    <tr>\n",
       "      <th>4</th>\n",
       "      <td>Gabelli NextShares Trust</td>\n",
       "      <td>FOANC</td>\n",
       "      <td>Liquidation</td>\n",
       "      <td>Suspended</td>\n",
       "      <td>3/27/2019</td>\n",
       "      <td>3/27/2019</td>\n",
       "    </tr>\n",
       "    <tr>\n",
       "      <th>5</th>\n",
       "      <td>Gabelli NextShares Trust</td>\n",
       "      <td>GRBIC</td>\n",
       "      <td>Liquidation</td>\n",
       "      <td>Suspended</td>\n",
       "      <td>3/27/2019</td>\n",
       "      <td>3/27/2019</td>\n",
       "    </tr>\n",
       "  </tbody>\n",
       "</table>\n",
       "</div>"
      ],
      "text/plain": [
       "                Issuer Name Symbol                     Reason     Status  \\\n",
       "0         BSB Bancorp, Inc.   BLMT         Acquisition/Merger  Suspended   \n",
       "1  Blue Hills Bancorp, Inc.   BHBK         Acquisition/Merger  Suspended   \n",
       "2        Elbit Imaging Ltd.  EMITF  Regulatory/Non Compliance  Suspended   \n",
       "4  Gabelli NextShares Trust  FOANC                Liquidation  Suspended   \n",
       "5  Gabelli NextShares Trust  GRBIC                Liquidation  Suspended   \n",
       "\n",
       "  Effective Date Form 25 Date  \n",
       "0       4/1/2019    3/29/2019  \n",
       "1       4/1/2019    3/29/2019  \n",
       "2      2/11/2019         None  \n",
       "4      3/27/2019    3/27/2019  \n",
       "5      3/27/2019    3/27/2019  "
      ]
     },
     "execution_count": 8,
     "metadata": {},
     "output_type": "execute_result"
    }
   ],
   "source": [
    "suspended_df = df[df['Status'] == \"Suspended\"]\n",
    "suspended_df.head(5)"
   ]
  },
  {
   "cell_type": "markdown",
   "metadata": {},
   "source": [
    "### 1. Build query structure\n",
    "#### query_list0 is for Google News; query_list1 is for Globenewswire"
   ]
  },
  {
   "cell_type": "code",
   "execution_count": 9,
   "metadata": {},
   "outputs": [],
   "source": [
    "ticker = df.to_dict('index')"
   ]
  },
  {
   "cell_type": "code",
   "execution_count": 10,
   "metadata": {},
   "outputs": [],
   "source": [
    "def build_query_list():\n",
    "    query_list0 = []\n",
    "    query_list1 = []\n",
    "    for i in ticker:\n",
    "        comp = re.sub(r'[,\\.]',' ',ticker[i]['Issuer Name']).split()\n",
    "        str_comp = '+'.join(comp)\n",
    "        str_comp1 = ' '.join(comp)\n",
    "        comp.append(ticker[i]['Symbol'])\n",
    "        query = '+'.join(comp)\n",
    "        query1 = ' '.join(comp)\n",
    "        query_list0.append(query)\n",
    "        query_list1.append(query1)\n",
    "    return (query_list0, query_list1)"
   ]
  },
  {
   "cell_type": "markdown",
   "metadata": {},
   "source": [
    "#### After testing different combinations, we found that company_name+ticker is best for Globenewswire, while company_name+ticker+\"stock\"+\"suspended\" is bester for Google News.\n",
    "\n",
    "#### After testing different combinations of selecting the top-k retrieved results, we found that simply selecting the top 1 result from both news sources give a nice peroformance."
   ]
  },
  {
   "cell_type": "markdown",
   "metadata": {},
   "source": [
    "### 2. Retrieving"
   ]
  },
  {
   "cell_type": "markdown",
   "metadata": {},
   "source": [
    "### 2.1 Google News Crawler"
   ]
  },
  {
   "cell_type": "code",
   "execution_count": 224,
   "metadata": {},
   "outputs": [],
   "source": [
    "# return top 1 results\n",
    "def parseSingleNews(query):\n",
    "    url = 'https://news.google.com/rss/search?q='+query+'+stock+suspend&hl=en-US&gl=US&ceid=US:en'\n",
    "    response = urllib.request.urlopen(url)  \n",
    "    soup = BeautifulSoup(response, 'html.parser')\n",
    "    \n",
    "    channel = soup.find('channel')\n",
    "    news_list = []\n",
    "    for item in soup.findAll('item')[0:1]:\n",
    "        des = ''\n",
    "        abst = ''\n",
    "        description = item.find('description').get_text()\n",
    "        match = re.search(r'(href=\")(.*)(\" target)',description)\n",
    "        match1 = re.search(r'(<p>)(.*)(</p>)',description)\n",
    "        if (match):\n",
    "            des = match.group(2)\n",
    "        if (match1):\n",
    "            abst = match1.group(2)\n",
    "        news_item = {\n",
    "            'title':item.find('title').get_text(),\n",
    "            'pubdate':item.find('pubdate').get_text(),\n",
    "            'link':des,\n",
    "            'abstract':abst\n",
    "        }\n",
    "        news_list.append(news_item)\n",
    "    return news_list"
   ]
  },
  {
   "cell_type": "code",
   "execution_count": 225,
   "metadata": {},
   "outputs": [],
   "source": [
    "def allQuery(query_list):\n",
    "    dict = {}\n",
    "    for q in query_list:\n",
    "        q1 = q.replace('+',' ')\n",
    "        news_list = parseSingleNews(q)\n",
    "        dict[q1]=news_list\n",
    "    return dict"
   ]
  },
  {
   "cell_type": "code",
   "execution_count": 226,
   "metadata": {},
   "outputs": [],
   "source": [
    "google_news = allQuery(query_list0)"
   ]
  },
  {
   "cell_type": "markdown",
   "metadata": {},
   "source": [
    "### 2.2 Globenewswire Crawler"
   ]
  },
  {
   "cell_type": "code",
   "execution_count": 227,
   "metadata": {},
   "outputs": [],
   "source": [
    "query_list2 = []\n",
    "for q in query_list1:\n",
    "    qry = {'keyword':q}\n",
    "    query_list2.append(qry)"
   ]
  },
  {
   "cell_type": "code",
   "execution_count": 228,
   "metadata": {},
   "outputs": [],
   "source": [
    "# return top 1 results\n",
    "def parseSingleNews1(query):\n",
    "    r = requests.get('https://globenewswire.com/Search', params=query)\n",
    "    result = BeautifulSoup(r.text,'html.parser')\n",
    "    contents = result.find_all(\"div\", attrs = {\"class\" : \"results-link\"})\n",
    "    news_list = []\n",
    "    for content in contents[0:1]: \n",
    "        a = content.find(\"h1\", attrs = {\"class\" : \"post-title16px\"}).find(\"a\")\n",
    "        title = a.text\n",
    "        pubdate = content.find(\"span\",attrs = {\"class\" : \"dt-green\"}).get_text()\n",
    "        link = a['href']\n",
    "        abstract = content.find_all(\"p\")[1].text\n",
    "        news_item = {\n",
    "            'title':title,\n",
    "            'pubdate':pubdate,\n",
    "            'link':'https://globenewswire.com/'+link,\n",
    "            'abstract':abstract\n",
    "        }\n",
    "        news_list.append(news_item)\n",
    "    return news_list"
   ]
  },
  {
   "cell_type": "code",
   "execution_count": 229,
   "metadata": {},
   "outputs": [],
   "source": [
    "def allQuery1(query_list):\n",
    "    dict = {}\n",
    "    for q in query_list:\n",
    "        news_list = parseSingleNews1(q)\n",
    "        dict[q['keyword']]=news_list\n",
    "    return dict"
   ]
  },
  {
   "cell_type": "code",
   "execution_count": 230,
   "metadata": {},
   "outputs": [],
   "source": [
    "globe_news = allQuery1(query_list2)"
   ]
  },
  {
   "cell_type": "markdown",
   "metadata": {},
   "source": [
    "### Merge two sets"
   ]
  },
  {
   "cell_type": "code",
   "execution_count": 233,
   "metadata": {},
   "outputs": [],
   "source": [
    "all_news = {}\n",
    "for key in google_news:\n",
    "    all_news[key] = google_news[key]\n",
    "    all_news[key] += globe_news[key]"
   ]
  },
  {
   "cell_type": "markdown",
   "metadata": {},
   "source": [
    "### Load into a dataframe for sentiment analysis"
   ]
  },
  {
   "cell_type": "code",
   "execution_count": 234,
   "metadata": {},
   "outputs": [],
   "source": [
    "columns = [\"Issuer Name\",\"Symbol\",\"Reason\", \"news_title\", \"news_link\", \"news_abstract\", \"pos_sentiment_score\", \"neg_sentiment_score\", \"sentiment_label\"]\n",
    "df_results = pd.DataFrame(columns = columns)"
   ]
  },
  {
   "cell_type": "code",
   "execution_count": 235,
   "metadata": {
    "scrolled": false
   },
   "outputs": [],
   "source": [
    "for index, rows in suspended_df.iterrows():\n",
    "    name = suspended_df.loc[index, \"Issuer Name\"]\n",
    "    ticker = suspended_df.loc[index, \"Symbol\"]\n",
    "    reason = suspended_df.loc[index, \"Reason\"]\n",
    "    \n",
    "    n = re.sub(r'[,\\.]',' ',name)\n",
    "    k = n.strip() + \" \" + ticker.strip()\n",
    "    k = re.sub(' +', ' ', k)\n",
    "\n",
    "    allnews = all_news.get(k)\n",
    "    for news in allnews:\n",
    "        news_title = news['title']\n",
    "        news_link = news['link']\n",
    "        news_abstract = news['abstract']\n",
    "        df_results = df_results.append({\"Issuer Name\":name, \"Symbol\": ticker,\"Reason\": reason, \n",
    "                           \"news_title\": news_title, \"news_link\": news_link, \"news_abstract\": news_abstract}, ignore_index=True)\n",
    "        "
   ]
  },
  {
   "cell_type": "code",
   "execution_count": 236,
   "metadata": {},
   "outputs": [
    {
     "data": {
      "text/html": [
       "<div>\n",
       "<style scoped>\n",
       "    .dataframe tbody tr th:only-of-type {\n",
       "        vertical-align: middle;\n",
       "    }\n",
       "\n",
       "    .dataframe tbody tr th {\n",
       "        vertical-align: top;\n",
       "    }\n",
       "\n",
       "    .dataframe thead th {\n",
       "        text-align: right;\n",
       "    }\n",
       "</style>\n",
       "<table border=\"1\" class=\"dataframe\">\n",
       "  <thead>\n",
       "    <tr style=\"text-align: right;\">\n",
       "      <th></th>\n",
       "      <th>Issuer Name</th>\n",
       "      <th>Symbol</th>\n",
       "      <th>Reason</th>\n",
       "      <th>news_title</th>\n",
       "      <th>news_link</th>\n",
       "      <th>news_abstract</th>\n",
       "      <th>pos_sentiment_score</th>\n",
       "      <th>neg_sentiment_score</th>\n",
       "      <th>sentiment_label</th>\n",
       "    </tr>\n",
       "  </thead>\n",
       "  <tbody>\n",
       "    <tr>\n",
       "      <th>0</th>\n",
       "      <td>BSB Bancorp, Inc.</td>\n",
       "      <td>BLMT</td>\n",
       "      <td>Acquisition/Merger</td>\n",
       "      <td>BSB Bancorp, Inc. Reports 2017 Results - Year ...</td>\n",
       "      <td>https://www.prnewswire.com/news-releases/bsb-b...</td>\n",
       "      <td>BELMONT, Mass., Feb. 8, 2018 /PRNewswire/ -- B...</td>\n",
       "      <td>NaN</td>\n",
       "      <td>NaN</td>\n",
       "      <td>NaN</td>\n",
       "    </tr>\n",
       "    <tr>\n",
       "      <th>1</th>\n",
       "      <td>BSB Bancorp, Inc.</td>\n",
       "      <td>BLMT</td>\n",
       "      <td>Acquisition/Merger</td>\n",
       "      <td>Bragar Eagel &amp; Squire, P.C. Reminds Investors ...</td>\n",
       "      <td>https://globenewswire.com//news-release/2019/0...</td>\n",
       "      <td>NEW YORK, Feb.  10, 2019  (GLOBE NEWSWIRE) -- ...</td>\n",
       "      <td>NaN</td>\n",
       "      <td>NaN</td>\n",
       "      <td>NaN</td>\n",
       "    </tr>\n",
       "    <tr>\n",
       "      <th>2</th>\n",
       "      <td>Blue Hills Bancorp, Inc.</td>\n",
       "      <td>BHBK</td>\n",
       "      <td>Acquisition/Merger</td>\n",
       "      <td>MERIAN GLOBAL INVESTORS UK Ltd Cuts Stake in A...</td>\n",
       "      <td>https://pressoracle.com/news/2019/02/26/armstr...</td>\n",
       "      <td>MERIAN GLOBAL INVESTORS UK Ltd reduced its hol...</td>\n",
       "      <td>NaN</td>\n",
       "      <td>NaN</td>\n",
       "      <td>NaN</td>\n",
       "    </tr>\n",
       "    <tr>\n",
       "      <th>3</th>\n",
       "      <td>Blue Hills Bancorp, Inc.</td>\n",
       "      <td>BHBK</td>\n",
       "      <td>Acquisition/Merger</td>\n",
       "      <td>Independent Bank Corp. and Blue Hills Bancorp,...</td>\n",
       "      <td>https://globenewswire.com//news-release/2019/0...</td>\n",
       "      <td>ROCKLAND, Mass. and NORWOOD, Mass., March  26,...</td>\n",
       "      <td>NaN</td>\n",
       "      <td>NaN</td>\n",
       "      <td>NaN</td>\n",
       "    </tr>\n",
       "    <tr>\n",
       "      <th>4</th>\n",
       "      <td>Elbit Imaging Ltd.</td>\n",
       "      <td>EMITF</td>\n",
       "      <td>Regulatory/Non Compliance</td>\n",
       "      <td>ELBIT IMAGING ANNOUNCES SUSPENSION OF TRADING ...</td>\n",
       "      <td>https://globenewswire.com/news-release/2019/02...</td>\n",
       "      <td>Tel Aviv, Israel, Feb. 07, 2019 (GLOBE NEWSWIR...</td>\n",
       "      <td>NaN</td>\n",
       "      <td>NaN</td>\n",
       "      <td>NaN</td>\n",
       "    </tr>\n",
       "  </tbody>\n",
       "</table>\n",
       "</div>"
      ],
      "text/plain": [
       "                Issuer Name Symbol                     Reason  \\\n",
       "0         BSB Bancorp, Inc.   BLMT         Acquisition/Merger   \n",
       "1         BSB Bancorp, Inc.   BLMT         Acquisition/Merger   \n",
       "2  Blue Hills Bancorp, Inc.   BHBK         Acquisition/Merger   \n",
       "3  Blue Hills Bancorp, Inc.   BHBK         Acquisition/Merger   \n",
       "4        Elbit Imaging Ltd.  EMITF  Regulatory/Non Compliance   \n",
       "\n",
       "                                          news_title  \\\n",
       "0  BSB Bancorp, Inc. Reports 2017 Results - Year ...   \n",
       "1  Bragar Eagel & Squire, P.C. Reminds Investors ...   \n",
       "2  MERIAN GLOBAL INVESTORS UK Ltd Cuts Stake in A...   \n",
       "3  Independent Bank Corp. and Blue Hills Bancorp,...   \n",
       "4  ELBIT IMAGING ANNOUNCES SUSPENSION OF TRADING ...   \n",
       "\n",
       "                                           news_link  \\\n",
       "0  https://www.prnewswire.com/news-releases/bsb-b...   \n",
       "1  https://globenewswire.com//news-release/2019/0...   \n",
       "2  https://pressoracle.com/news/2019/02/26/armstr...   \n",
       "3  https://globenewswire.com//news-release/2019/0...   \n",
       "4  https://globenewswire.com/news-release/2019/02...   \n",
       "\n",
       "                                       news_abstract pos_sentiment_score  \\\n",
       "0  BELMONT, Mass., Feb. 8, 2018 /PRNewswire/ -- B...                 NaN   \n",
       "1  NEW YORK, Feb.  10, 2019  (GLOBE NEWSWIRE) -- ...                 NaN   \n",
       "2  MERIAN GLOBAL INVESTORS UK Ltd reduced its hol...                 NaN   \n",
       "3  ROCKLAND, Mass. and NORWOOD, Mass., March  26,...                 NaN   \n",
       "4  Tel Aviv, Israel, Feb. 07, 2019 (GLOBE NEWSWIR...                 NaN   \n",
       "\n",
       "  neg_sentiment_score sentiment_label  \n",
       "0                 NaN             NaN  \n",
       "1                 NaN             NaN  \n",
       "2                 NaN             NaN  \n",
       "3                 NaN             NaN  \n",
       "4                 NaN             NaN  "
      ]
     },
     "execution_count": 236,
     "metadata": {},
     "output_type": "execute_result"
    }
   ],
   "source": [
    "df_results.head(5)"
   ]
  },
  {
   "cell_type": "markdown",
   "metadata": {},
   "source": [
    "### Predict the sentiment"
   ]
  },
  {
   "cell_type": "markdown",
   "metadata": {},
   "source": [
    "#### funcitons to clean the text (the news title)"
   ]
  },
  {
   "cell_type": "code",
   "execution_count": 239,
   "metadata": {},
   "outputs": [],
   "source": [
    "# Construct stopwords\n",
    "# read stock list and build a list of stopwords for these stock tickers\n",
    "stock_list = pd.read_csv('train/data/stocks_cleaned.csv')\n",
    "stock_list.columns = ['ticker', 'company']\n",
    "\n",
    "\n",
    "def build_stoplist(df):\n",
    "    stoplist = set()\n",
    "    for index, row in df.iterrows():\n",
    "        stoplist.add(row.ticker.lower())\n",
    "        stoplist.update(row.company.lower().split())\n",
    "    return stoplist\n",
    "\n",
    "\n",
    "stock_stop = build_stoplist(stock_list)\n",
    "stop = set(stopwords.words('english'))"
   ]
  },
  {
   "cell_type": "code",
   "execution_count": 240,
   "metadata": {},
   "outputs": [],
   "source": [
    "# clean text\n",
    "def pre_word(word):\n",
    "    # Remove punctuation\n",
    "    word = word.strip('\\'\"?!,.():;')\n",
    "    # Remove - & '\n",
    "    word = re.sub(r'(-|\\')', '', word)\n",
    "    return word\n",
    "\n",
    "\n",
    "def is_word(word):\n",
    "    return (re.search(r'^[a-zA-Z][a-z0-9A-Z\\._]*$', word) is not None)\n",
    "\n",
    "\n",
    "def pre_text(text):\n",
    "    '''\n",
    "    This function cleans the text\n",
    "    '''\n",
    "    processed_text = []\n",
    "    text = text.lower()\n",
    "    # remove link\n",
    "    text = re.sub(r'((www\\.[\\S]+)|(https?://[\\S]+))', ' ', text)\n",
    "    # remove 2 more dots\n",
    "    text = re.sub(r'\\.{2,}', ' ', text)\n",
    "    text = text.strip(' >\"\\'')\n",
    "    words = text.split()\n",
    "    # remove stopwords\n",
    "    words = [word for word in words if word not in stock_stop and word not in stop]\n",
    "    # remove too long or too short word\n",
    "    for word in words:\n",
    "        word = pre_word(word)\n",
    "        if is_word(word) and len(word) >= 2 and len(word) <= 10:\n",
    "            processed_text.append(word)\n",
    "    # remove punctuation\n",
    "    new_text = ' '.join(processed_text)\n",
    "    new_text = re.sub(r\"[^\\w\\s]\", \"\", new_text)\n",
    "    return new_text"
   ]
  },
  {
   "cell_type": "code",
   "execution_count": 241,
   "metadata": {},
   "outputs": [],
   "source": [
    "# predict\n",
    "logmodel = joblib.load('model/classifier.pkl')\n",
    "countvector = joblib.load('model/countvector.pkl')"
   ]
  },
  {
   "cell_type": "code",
   "execution_count": 242,
   "metadata": {},
   "outputs": [],
   "source": [
    "for index, row in df_results.iterrows():\n",
    "    # clean the title\n",
    "    processed_text = pre_text(df_results.loc[index,\"news_title\"])\n",
    "    # convert to count vector\n",
    "    count_matrix_test = countvector.transform([processed_text])\n",
    "    df_count_test = pd.DataFrame(count_matrix_test.toarray())\n",
    "    \n",
    "    label = logmodel.predict(df_count_test)[0]\n",
    "    pos_score = logmodel.predict_proba(df_count_test)[0][1]\n",
    "    neg_score = logmodel.predict_proba(df_count_test)[0][0]\n",
    "    \n",
    "    df_results.loc[index,\"pos_sentiment_score\"] = pos_score\n",
    "    df_results.loc[index,\"neg_sentiment_score\"] = neg_score\n",
    "    df_results.loc[index,\"sentiment_label\"] = \"Positive\" if label == 1 else \"Negative\""
   ]
  },
  {
   "cell_type": "code",
   "execution_count": 243,
   "metadata": {},
   "outputs": [
    {
     "data": {
      "text/html": [
       "<div>\n",
       "<style scoped>\n",
       "    .dataframe tbody tr th:only-of-type {\n",
       "        vertical-align: middle;\n",
       "    }\n",
       "\n",
       "    .dataframe tbody tr th {\n",
       "        vertical-align: top;\n",
       "    }\n",
       "\n",
       "    .dataframe thead th {\n",
       "        text-align: right;\n",
       "    }\n",
       "</style>\n",
       "<table border=\"1\" class=\"dataframe\">\n",
       "  <thead>\n",
       "    <tr style=\"text-align: right;\">\n",
       "      <th></th>\n",
       "      <th>Issuer Name</th>\n",
       "      <th>Symbol</th>\n",
       "      <th>Reason</th>\n",
       "      <th>news_title</th>\n",
       "      <th>news_link</th>\n",
       "      <th>news_abstract</th>\n",
       "      <th>pos_sentiment_score</th>\n",
       "      <th>neg_sentiment_score</th>\n",
       "      <th>sentiment_label</th>\n",
       "    </tr>\n",
       "  </thead>\n",
       "  <tbody>\n",
       "    <tr>\n",
       "      <th>0</th>\n",
       "      <td>BSB Bancorp, Inc.</td>\n",
       "      <td>BLMT</td>\n",
       "      <td>Acquisition/Merger</td>\n",
       "      <td>BSB Bancorp, Inc. Reports 2017 Results - Year ...</td>\n",
       "      <td>https://www.prnewswire.com/news-releases/bsb-b...</td>\n",
       "      <td>BELMONT, Mass., Feb. 8, 2018 /PRNewswire/ -- B...</td>\n",
       "      <td>0.438188</td>\n",
       "      <td>0.561812</td>\n",
       "      <td>Negative</td>\n",
       "    </tr>\n",
       "    <tr>\n",
       "      <th>1</th>\n",
       "      <td>BSB Bancorp, Inc.</td>\n",
       "      <td>BLMT</td>\n",
       "      <td>Acquisition/Merger</td>\n",
       "      <td>Bragar Eagel &amp; Squire, P.C. Reminds Investors ...</td>\n",
       "      <td>https://globenewswire.com//news-release/2019/0...</td>\n",
       "      <td>NEW YORK, Feb.  10, 2019  (GLOBE NEWSWIRE) -- ...</td>\n",
       "      <td>0.327522</td>\n",
       "      <td>0.672478</td>\n",
       "      <td>Negative</td>\n",
       "    </tr>\n",
       "    <tr>\n",
       "      <th>2</th>\n",
       "      <td>Blue Hills Bancorp, Inc.</td>\n",
       "      <td>BHBK</td>\n",
       "      <td>Acquisition/Merger</td>\n",
       "      <td>MERIAN GLOBAL INVESTORS UK Ltd Cuts Stake in A...</td>\n",
       "      <td>https://pressoracle.com/news/2019/02/26/armstr...</td>\n",
       "      <td>MERIAN GLOBAL INVESTORS UK Ltd reduced its hol...</td>\n",
       "      <td>0.448849</td>\n",
       "      <td>0.551151</td>\n",
       "      <td>Negative</td>\n",
       "    </tr>\n",
       "    <tr>\n",
       "      <th>3</th>\n",
       "      <td>Blue Hills Bancorp, Inc.</td>\n",
       "      <td>BHBK</td>\n",
       "      <td>Acquisition/Merger</td>\n",
       "      <td>Independent Bank Corp. and Blue Hills Bancorp,...</td>\n",
       "      <td>https://globenewswire.com//news-release/2019/0...</td>\n",
       "      <td>ROCKLAND, Mass. and NORWOOD, Mass., March  26,...</td>\n",
       "      <td>0.466653</td>\n",
       "      <td>0.533347</td>\n",
       "      <td>Negative</td>\n",
       "    </tr>\n",
       "    <tr>\n",
       "      <th>4</th>\n",
       "      <td>Elbit Imaging Ltd.</td>\n",
       "      <td>EMITF</td>\n",
       "      <td>Regulatory/Non Compliance</td>\n",
       "      <td>ELBIT IMAGING ANNOUNCES SUSPENSION OF TRADING ...</td>\n",
       "      <td>https://globenewswire.com/news-release/2019/02...</td>\n",
       "      <td>Tel Aviv, Israel, Feb. 07, 2019 (GLOBE NEWSWIR...</td>\n",
       "      <td>0.325736</td>\n",
       "      <td>0.674264</td>\n",
       "      <td>Negative</td>\n",
       "    </tr>\n",
       "  </tbody>\n",
       "</table>\n",
       "</div>"
      ],
      "text/plain": [
       "                Issuer Name Symbol                     Reason  \\\n",
       "0         BSB Bancorp, Inc.   BLMT         Acquisition/Merger   \n",
       "1         BSB Bancorp, Inc.   BLMT         Acquisition/Merger   \n",
       "2  Blue Hills Bancorp, Inc.   BHBK         Acquisition/Merger   \n",
       "3  Blue Hills Bancorp, Inc.   BHBK         Acquisition/Merger   \n",
       "4        Elbit Imaging Ltd.  EMITF  Regulatory/Non Compliance   \n",
       "\n",
       "                                          news_title  \\\n",
       "0  BSB Bancorp, Inc. Reports 2017 Results - Year ...   \n",
       "1  Bragar Eagel & Squire, P.C. Reminds Investors ...   \n",
       "2  MERIAN GLOBAL INVESTORS UK Ltd Cuts Stake in A...   \n",
       "3  Independent Bank Corp. and Blue Hills Bancorp,...   \n",
       "4  ELBIT IMAGING ANNOUNCES SUSPENSION OF TRADING ...   \n",
       "\n",
       "                                           news_link  \\\n",
       "0  https://www.prnewswire.com/news-releases/bsb-b...   \n",
       "1  https://globenewswire.com//news-release/2019/0...   \n",
       "2  https://pressoracle.com/news/2019/02/26/armstr...   \n",
       "3  https://globenewswire.com//news-release/2019/0...   \n",
       "4  https://globenewswire.com/news-release/2019/02...   \n",
       "\n",
       "                                       news_abstract pos_sentiment_score  \\\n",
       "0  BELMONT, Mass., Feb. 8, 2018 /PRNewswire/ -- B...            0.438188   \n",
       "1  NEW YORK, Feb.  10, 2019  (GLOBE NEWSWIRE) -- ...            0.327522   \n",
       "2  MERIAN GLOBAL INVESTORS UK Ltd reduced its hol...            0.448849   \n",
       "3  ROCKLAND, Mass. and NORWOOD, Mass., March  26,...            0.466653   \n",
       "4  Tel Aviv, Israel, Feb. 07, 2019 (GLOBE NEWSWIR...            0.325736   \n",
       "\n",
       "  neg_sentiment_score sentiment_label  \n",
       "0            0.561812        Negative  \n",
       "1            0.672478        Negative  \n",
       "2            0.551151        Negative  \n",
       "3            0.533347        Negative  \n",
       "4            0.674264        Negative  "
      ]
     },
     "execution_count": 243,
     "metadata": {},
     "output_type": "execute_result"
    }
   ],
   "source": [
    "df_results.head(5)"
   ]
  },
  {
   "cell_type": "markdown",
   "metadata": {},
   "source": [
    "### Save to a CSV file"
   ]
  },
  {
   "cell_type": "code",
   "execution_count": 244,
   "metadata": {},
   "outputs": [],
   "source": [
    "df_results.to_csv(\"output.csv\", index=False)"
   ]
  }
 ],
 "metadata": {
  "kernelspec": {
   "display_name": "Python 3",
   "language": "python",
   "name": "python3"
  },
  "language_info": {
   "codemirror_mode": {
    "name": "ipython",
    "version": 3
   },
   "file_extension": ".py",
   "mimetype": "text/x-python",
   "name": "python",
   "nbconvert_exporter": "python",
   "pygments_lexer": "ipython3",
   "version": "3.7.2"
  }
 },
 "nbformat": 4,
 "nbformat_minor": 2
}
